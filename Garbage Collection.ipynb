{
 "cells": [
  {
   "cell_type": "markdown",
   "id": "60a20d5e",
   "metadata": {},
   "source": [
    "In C++\n",
    "\n",
    "programmer is responsible to create new object\n",
    "programmer is responsible to delete object\n",
    "\n",
    "if unrequired object is kept it will occupy the memory and cause the application failure \n",
    "\n",
    "as programmer has not taken much care of deleting the object\n",
    "\n",
    "remove the resposibility from programmer java/python provided one assistant to destroy useless object that assistance is garbage collection\n",
    "\n",
    "it runns in background to destroy the useless object\n",
    "\n",
    "need of Garbage collector == chance of failing the program of java or python or C# due to memory problems\n",
    "\n",
    "if object does not contain any refernce variable it is ready for garbage collection\n",
    "\n",
    "\n",
    "\n",
    "Based on our requirement we can enable and disable Garbage collection\n",
    "\n",
    "Destructor\n",
    "\n",
    "__init__()  ----- constructor\n",
    "__del__()------destructor\n",
    "\n",
    "1. gc.isenabled() to check whether gc is enabled\n",
    "2. gc.disable()\n",
    "3. gc.enable()\n",
    "\n",
    "\n",
    "just before destroying an object, GC always calls destructor to perform cleanup\n",
    "\n",
    "destructor is used for cleanup activities before destroying the object garbage collector can call destructor automatically\n",
    "\n",
    "\n",
    "clean up activities: whether there is any database connection with the object\n",
    "\n",
    "Gc is invoked by garbage collector\n",
    "\n",
    "\n",
    "\n"
   ]
  },
  {
   "cell_type": "code",
   "execution_count": 6,
   "id": "c534de77",
   "metadata": {},
   "outputs": [
    {
     "name": "stdout",
     "output_type": "stream",
     "text": [
      "True\n",
      "False\n",
      "True\n"
     ]
    }
   ],
   "source": [
    "import gc\n",
    "print(gc.isenabled())\n",
    "gc.disable()\n",
    "print(gc.isenabled())\n",
    "gc.enable()\n",
    "print(gc.isenabled())\n"
   ]
  },
  {
   "cell_type": "code",
   "execution_count": null,
   "id": "e141fe86",
   "metadata": {},
   "outputs": [],
   "source": [
    "# destructor\n",
    "__del__(self):\n",
    "    "
   ]
  },
  {
   "cell_type": "code",
   "execution_count": 15,
   "id": "d43d4643",
   "metadata": {},
   "outputs": [
    {
     "name": "stdout",
     "output_type": "stream",
     "text": [
      "True\n",
      "Object Initialization...\n",
      "End of application\n"
     ]
    }
   ],
   "source": [
    "# example\n",
    "import time\n",
    "class Test:\n",
    "    def __init__(self):\n",
    "        print('Object Initialization...')\n",
    "    \n",
    "    def __del__(self):\n",
    "        print('Fullfilling last wish')\n",
    "\n",
    "        \n",
    "gc.enable()\n",
    "print(gc.isenabled())\n",
    "t1 = Test()\n",
    "\n",
    "\n",
    "\n",
    "time.sleep(5)\n",
    "\n",
    "print('End of application')\n",
    "\n",
    "        "
   ]
  },
  {
   "cell_type": "code",
   "execution_count": 16,
   "id": "e59e1405",
   "metadata": {},
   "outputs": [],
   "source": [
    "class Test:\n",
    "    def __init__(self):\n",
    "        print('Object Initialization...')\n",
    "        \n",
    "    def __del__(self):\n",
    "        print('Fullfilling last wish')\n",
    "        \n",
    "        \n",
    "t1 = Test()\n",
    "\n",
    "t2 = t1\n",
    "t3 = t2\n",
    "t4 = t3\n",
    "    \n",
    "# when all refrence variables are deleted then the object is ready for gc\n",
    "\n"
   ]
  },
  {
   "cell_type": "code",
   "execution_count": 18,
   "id": "f4d4f216",
   "metadata": {},
   "outputs": [
    {
     "name": "stdout",
     "output_type": "stream",
     "text": [
      "Object Initialization....\n",
      "5\n"
     ]
    }
   ],
   "source": [
    "import time\n",
    "import sys\n",
    "class Tes:\n",
    "    def __init__(self):\n",
    "        print('Object Initialization....')\n",
    "        \n",
    "t1 = Tes()\n",
    "\n",
    "t2 = t1\n",
    "t3 = t2\n",
    "t4 = t3\n",
    "\n",
    "print(sys.getrefcount(t1))"
   ]
  },
  {
   "cell_type": "code",
   "execution_count": null,
   "id": "c0b4f1c5",
   "metadata": {},
   "outputs": [],
   "source": []
  }
 ],
 "metadata": {
  "kernelspec": {
   "display_name": "Python 3 (ipykernel)",
   "language": "python",
   "name": "python3"
  },
  "language_info": {
   "codemirror_mode": {
    "name": "ipython",
    "version": 3
   },
   "file_extension": ".py",
   "mimetype": "text/x-python",
   "name": "python",
   "nbconvert_exporter": "python",
   "pygments_lexer": "ipython3",
   "version": "3.9.7"
  }
 },
 "nbformat": 4,
 "nbformat_minor": 5
}
