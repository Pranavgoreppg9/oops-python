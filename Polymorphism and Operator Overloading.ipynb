{
 "cells": [
  {
   "cell_type": "markdown",
   "id": "4f70946c",
   "metadata": {},
   "source": [
    "Polymorphism:\n",
    "------------------------\n",
    "Ploymorphism\n",
    "Duck Typing Phylosophy of Python\n",
    "\n",
    "Overloading\n",
    "    operator overloading\n",
    "    method overloading\n",
    "    constructor overloading\n",
    "    \n",
    "0verriding \n",
    "    Method overriding\n",
    "    constructor overriding"
   ]
  },
  {
   "cell_type": "markdown",
   "id": "38888520",
   "metadata": {},
   "source": [
    "Poly- manny\n",
    "morph - many forms\n",
    "\n",
    "one name multiple forms"
   ]
  },
  {
   "cell_type": "markdown",
   "id": "08095aac",
   "metadata": {},
   "source": [
    "overloading\n",
    "\n",
    "10 + 20 = 30\n",
    "'pranav' + 'gore' = pranavgore\n",
    "\n",
    "10*3 = 30\n",
    "\n",
    "'durga' * 3 = durgadurgadurga\n",
    "\n",
    "\n",
    "same operator different behaviour---operator overloading\n",
    "\n",
    "\n",
    "deposit(cash)\n",
    "deposit(cheque)\n",
    "deposit(dd)\n",
    "\n",
    "same function different arguement types ---method overloading\n",
    "\n",
    "\n",
    "\n",
    "\n"
   ]
  },
  {
   "cell_type": "markdown",
   "id": "b6e6c573",
   "metadata": {},
   "source": [
    "Operator Overloading:\n",
    "\n",
    "Java not having operator overloading concept\n",
    "python has\n",
    "\n",
    "+\n",
    "*\n",
    "any python operator\n",
    "<,<=,>=,>\n"
   ]
  },
  {
   "cell_type": "code",
   "execution_count": 2,
   "id": "661ff513",
   "metadata": {},
   "outputs": [
    {
     "name": "stdout",
     "output_type": "stream",
     "text": [
      "300\n"
     ]
    }
   ],
   "source": [
    "class Book:\n",
    "    def __init__(self,pages):\n",
    "        self.pages= pages\n",
    "    \n",
    "    def __add__(self,other):\n",
    "        return self.pages + other.pages\n",
    "        \n",
    "b1 = Book(100)\n",
    "b2 = Book(200)\n",
    "print(b1+b2)\n",
    "\n",
    "#when we want to add two object variables \n",
    "# operator overloading by using magic method\n",
    "# the return type of the internal method is return type of operator \n",
    "# overloading\n",
    "\n",
    "# __add__(self,other):\n",
    "#     b1 = self, b2 = other"
   ]
  },
  {
   "cell_type": "code",
   "execution_count": 10,
   "id": "1ae1b974",
   "metadata": {},
   "outputs": [
    {
     "name": "stdout",
     "output_type": "stream",
     "text": [
      "400\n",
      "-100\n"
     ]
    }
   ],
   "source": [
    "class Book:\n",
    "    def __init__(self,pages):\n",
    "        self.pages= pages\n",
    "    \n",
    "    def __add__(self,other):\n",
    "        return self.pages + other.pages\n",
    "    def __sub__(self,other):\n",
    "        return self.pages - other.pages\n",
    "        \n",
    "b1 = Book(100)\n",
    "b2 = Book(200)\n",
    "b3 = Book(300)\n",
    "print(b1+b3)\n",
    "print(b1-b2)"
   ]
  },
  {
   "cell_type": "code",
   "execution_count": 13,
   "id": "fd3021a9",
   "metadata": {},
   "outputs": [],
   "source": [
    "class Book:\n",
    "    def __init__(self,pages):\n",
    "        self.pages= pages\n",
    "    \n",
    "    def __add__(self,other):\n",
    "        return self.pages + other.pages\n",
    "        \n",
    "b1 = Book(100)\n",
    "b2 = Book(200)\n",
    "b3 = Book(300)\n"
   ]
  },
  {
   "cell_type": "markdown",
   "id": "b6c106db",
   "metadata": {},
   "source": [
    "operator\tMagic Method\n",
    "+\t__add__(self, other)\n",
    "–\t__sub__(self, other)\n",
    "*\t__mul__(self, other)\n",
    "/\t__truediv__(self, other)\n",
    "//\t__floordiv__(self, other)\n",
    "%\t__mod__(self, other)\n",
    "**\t__pow__(self, other)\n",
    ">>\t__rshift__(self, other)\n",
    "<<\t__lshift__(self, other)\n",
    "&\t__and__(self, other)\n",
    "|\t__or__(self, other)\n",
    "^\t__xor__(self, other)\n",
    "Comparison Operators :\n",
    "Operator\tMagic Method\n",
    "<\t__lt__(self, other)\n",
    ">\t__gt__(self, other)\n",
    "<=\t__le__(self, other)\n",
    ">=\t__ge__(self, other)\n",
    "==\t__eq__(self, other)\n",
    "!=\t__ne__(self, other)\n",
    "Assignment Operators :\n",
    "Operator\tMagic Method\n",
    "-=\t__isub__(self, other)\n",
    "+=\t__iadd__(self, other)\n",
    "*=\t__imul__(self, other)\n",
    "/=\t__idiv__(self, other)\n",
    "//=\t__ifloordiv__(self, other)\n",
    "%=\t__imod__(self, other)\n",
    "**=\t__ipow__(self, other)\n",
    ">>=\t__irshift__(self, other)\n",
    "<<=\t__ilshift__(self, other)\n",
    "&=\t__iand__(self, other)\n",
    "|=\t__ior__(self, other)\n",
    "^=\t__ixor__(self, other)\n",
    "Unary Operators :\n",
    "Operator\tMagic Method\n",
    "–\t__neg__(self)\n",
    "+\t__pos__(self)\n",
    "~\t__invert__(self)"
   ]
  },
  {
   "cell_type": "markdown",
   "id": "7775536c",
   "metadata": {},
   "source": [
    "# when ever we are trying to print any object refrence internally on magic mehtod is called   __str__()"
   ]
  },
  {
   "cell_type": "code",
   "execution_count": 19,
   "id": "57db9da6",
   "metadata": {},
   "outputs": [
    {
     "name": "stdout",
     "output_type": "stream",
     "text": [
      "The number of pages: 100\n"
     ]
    }
   ],
   "source": [
    "class Book:\n",
    "    def __init__(self,pages):\n",
    "        self.pages = pages\n",
    "        \n",
    "    def __str__(self):\n",
    "        return 'The number of pages: ' + str(self.pages)\n",
    "b1 = Book(100)\n",
    "print(b1)"
   ]
  },
  {
   "cell_type": "code",
   "execution_count": 15,
   "id": "ec70f6f6",
   "metadata": {},
   "outputs": [
    {
     "name": "stdout",
     "output_type": "stream",
     "text": [
      "<__main__.Book object at 0x000001AAD7FFC4F0>\n"
     ]
    }
   ],
   "source": [
    "class Book:\n",
    "    def __init__(self,pages):\n",
    "        self.pages = pages\n",
    "        \n",
    "\n",
    "b1 = Book(100)\n",
    "print(b1)"
   ]
  },
  {
   "cell_type": "code",
   "execution_count": 21,
   "id": "d41b16af",
   "metadata": {},
   "outputs": [
    {
     "name": "stdout",
     "output_type": "stream",
     "text": [
      "The number of pages: 100\n",
      "300\n"
     ]
    }
   ],
   "source": [
    "class Book:\n",
    "    def __init__(self,pages):\n",
    "        self.pages = pages\n",
    "        \n",
    "    def __str__(self):\n",
    "        return 'The number of pages: ' + str(self.pages)\n",
    "    \n",
    "    def __add__(self,other):\n",
    "        return self.pages + other.pages\n",
    "b1 = Book(100)\n",
    "b2 = Book(200)\n",
    "print(b1)\n",
    "print(b1+b2)\n"
   ]
  },
  {
   "cell_type": "code",
   "execution_count": 23,
   "id": "8b64b3cd",
   "metadata": {},
   "outputs": [
    {
     "name": "stdout",
     "output_type": "stream",
     "text": [
      "The number of pages: 100\n",
      "The number of pages: 700\n"
     ]
    }
   ],
   "source": [
    "class Book:\n",
    "    def __init__(self,pages):\n",
    "        self.pages = pages\n",
    "        \n",
    "    def __str__(self):\n",
    "        return 'The number of pages: ' + str(self.pages)\n",
    "    \n",
    "    def __add__(self,other):\n",
    "        total = self.pages + other.pages\n",
    "        b = Book(total)\n",
    "        return b\n",
    "    \n",
    "b1 = Book(100)\n",
    "b2 = Book(200)\n",
    "b3 = Book(400)\n",
    "print(b1)\n",
    "print(b1+b2+b3)\n",
    "\n",
    "# method operator part 2 durgasoft"
   ]
  },
  {
   "cell_type": "markdown",
   "id": "1bcb2143",
   "metadata": {},
   "source": [
    "Whenever we are calling + operator then __add__() method will be called\n",
    "\n",
    "Whenever we are printing object refrence then __str__() method will be called\n",
    "\n",
    "if we are not providing this method then default implementation is implemented.\n",
    "\n"
   ]
  },
  {
   "cell_type": "code",
   "execution_count": 27,
   "id": "34f08b95",
   "metadata": {},
   "outputs": [
    {
     "name": "stdout",
     "output_type": "stream",
     "text": [
      "The number of pages: 100\n",
      "The number of pages: 1800\n"
     ]
    }
   ],
   "source": [
    "class Book:\n",
    "    def __init__(self,pages):\n",
    "        self.pages = pages\n",
    "        \n",
    "    def __str__(self):\n",
    "        return 'The number of pages: ' + str(self.pages)\n",
    "    \n",
    "    def __add__(self,other):\n",
    "        total = self.pages + other.pages\n",
    "        b = Book(total)    \n",
    "        return b\n",
    "    \n",
    "b1 = Book(100)\n",
    "b2 = Book(200)\n",
    "b3 = Book(400)\n",
    "b4 = Book(500)\n",
    "b5 = Book(600)\n",
    "print(b1)\n",
    "print(b1+b2+b3+b4+b5)"
   ]
  },
  {
   "cell_type": "code",
   "execution_count": 29,
   "id": "bf8c02ba",
   "metadata": {},
   "outputs": [
    {
     "name": "stdout",
     "output_type": "stream",
     "text": [
      "True\n",
      "False\n"
     ]
    }
   ],
   "source": [
    "class Student:\n",
    "    def __init__(self,name,marks):\n",
    "        self.name = name\n",
    "        self.marks = marks\n",
    "        \n",
    "    def __lt__(self,other):\n",
    "        return self.marks < other.marks\n",
    "s1 = Student('durga', 100)\n",
    "s2 = Student('ravi', 200)\n",
    "\n",
    "print(s1<s2)\n",
    "print(s2<s1)\n",
    "\n",
    "# we can overload any operator"
   ]
  },
  {
   "cell_type": "code",
   "execution_count": 34,
   "id": "16448a8e",
   "metadata": {},
   "outputs": [
    {
     "name": "stdout",
     "output_type": "stream",
     "text": [
      "This month salary 12500\n"
     ]
    }
   ],
   "source": [
    "class Employee:\n",
    "    def __init__(self,name,salary):\n",
    "        self.name = name\n",
    "        self.salary = salary\n",
    "    \n",
    "    def __mul__(self,other):\n",
    "        return self.salary *other.days\n",
    "\n",
    "class TimeSheet:\n",
    "    def __init__(self, name, days):\n",
    "        self.name = name\n",
    "        self.days = days\n",
    "        \n",
    "e = Employee('Pranav', 500)\n",
    "\n",
    "t = TimeSheet('Pranav', 25)\n",
    "print('This month salary', e*t)"
   ]
  },
  {
   "cell_type": "code",
   "execution_count": null,
   "id": "b04bf96a",
   "metadata": {},
   "outputs": [],
   "source": []
  }
 ],
 "metadata": {
  "kernelspec": {
   "display_name": "Python 3 (ipykernel)",
   "language": "python",
   "name": "python3"
  },
  "language_info": {
   "codemirror_mode": {
    "name": "ipython",
    "version": 3
   },
   "file_extension": ".py",
   "mimetype": "text/x-python",
   "name": "python",
   "nbconvert_exporter": "python",
   "pygments_lexer": "ipython3",
   "version": "3.9.7"
  }
 },
 "nbformat": 4,
 "nbformat_minor": 5
}
