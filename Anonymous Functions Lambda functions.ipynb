{
 "cells": [
  {
   "cell_type": "markdown",
   "id": "29d6ecb7",
   "metadata": {},
   "source": [
    "Anonymous Functions do not have a name also called lambda function\n",
    "\n",
    "just for instant use no need of naming the function\n",
    "\n",
    "1) Nameless function\n",
    "2) Instant or one time usage\n",
    "\n",
    "Syntax\n",
    "lambda input_arguement : Expression\n",
    "\n"
   ]
  },
  {
   "cell_type": "code",
   "execution_count": 1,
   "id": "1369baab",
   "metadata": {},
   "outputs": [
    {
     "data": {
      "text/plain": [
       "100"
      ]
     },
     "execution_count": 1,
     "metadata": {},
     "output_type": "execute_result"
    }
   ],
   "source": [
    "def squareit(n):\n",
    "    return n*n\n",
    "\n",
    "squareit(10)"
   ]
  },
  {
   "cell_type": "code",
   "execution_count": 3,
   "id": "10431cf5",
   "metadata": {},
   "outputs": [
    {
     "name": "stdout",
     "output_type": "stream",
     "text": [
      "16\n"
     ]
    }
   ],
   "source": [
    "s = lambda n: n*n\n",
    "\n",
    "\n",
    "print(s(4))\n",
    "# but here we have given the name 's' to tthe lambda function it is not \n",
    "# strictly anonymous  "
   ]
  },
  {
   "cell_type": "markdown",
   "id": "bff2b586",
   "metadata": {},
   "source": [
    "# map function \n"
   ]
  },
  {
   "cell_type": "code",
   "execution_count": 4,
   "id": "9200e6bf",
   "metadata": {},
   "outputs": [
    {
     "data": {
      "text/plain": [
       "[1, 4, 9, 16, 25]"
      ]
     },
     "execution_count": 4,
     "metadata": {},
     "output_type": "execute_result"
    }
   ],
   "source": [
    "l = [1,2,3,4,5]\n",
    "\n",
    "# map(function, sequence)    --------------  syntax\n",
    "\n",
    "# function arguement can be applied to each element of sequence and generate\n",
    "# new sequence\n",
    "\n",
    "def squareit(n):\n",
    "    return n*n\n",
    "\n",
    "l1 = list(map(squareit, l))\n",
    "l1\n",
    "\n",
    "\n",
    "# y = map(int, input().split())"
   ]
  },
  {
   "cell_type": "code",
   "execution_count": 5,
   "id": "96c1917c",
   "metadata": {},
   "outputs": [
    {
     "data": {
      "text/plain": [
       "[1, 4, 9, 16, 25]"
      ]
     },
     "execution_count": 5,
     "metadata": {},
     "output_type": "execute_result"
    }
   ],
   "source": [
    "# using above function using anonymus lambda\n",
    "l = [1,2,3,4,5]\n",
    "l1 = list(map(lambda n: n*n, l))\n",
    "l1"
   ]
  },
  {
   "cell_type": "code",
   "execution_count": 7,
   "id": "61bdf3cf",
   "metadata": {},
   "outputs": [
    {
     "data": {
      "text/plain": [
       "[5, 20, 45, 80, 125, 180]"
      ]
     },
     "execution_count": 7,
     "metadata": {},
     "output_type": "execute_result"
    }
   ],
   "source": [
    "# for multiple sequences\n",
    "\n",
    "l1 = [1,2,3,4,5,6]\n",
    "l2 = [5,10,15,20,25,30]\n",
    "\n",
    "l3= list(map(lambda x,y:x*y,l1,l2))\n",
    "l3\n"
   ]
  },
  {
   "cell_type": "code",
   "execution_count": 12,
   "id": "35035091",
   "metadata": {},
   "outputs": [
    {
     "name": "stdout",
     "output_type": "stream",
     "text": [
      "2 35 56 67 7\n",
      "[2, 35, 56, 67, 7]\n"
     ]
    }
   ],
   "source": [
    "lst = list(map(int,input().split()))\n",
    "print(lst)"
   ]
  },
  {
   "cell_type": "code",
   "execution_count": 11,
   "id": "89269d94",
   "metadata": {},
   "outputs": [
    {
     "name": "stdout",
     "output_type": "stream",
     "text": [
      "[1, 2, 4, 56, 6]\n"
     ]
    }
   ],
   "source": []
  },
  {
   "cell_type": "code",
   "execution_count": null,
   "id": "74cddddb",
   "metadata": {},
   "outputs": [],
   "source": []
  }
 ],
 "metadata": {
  "kernelspec": {
   "display_name": "Python 3 (ipykernel)",
   "language": "python",
   "name": "python3"
  },
  "language_info": {
   "codemirror_mode": {
    "name": "ipython",
    "version": 3
   },
   "file_extension": ".py",
   "mimetype": "text/x-python",
   "name": "python",
   "nbconvert_exporter": "python",
   "pygments_lexer": "ipython3",
   "version": "3.9.7"
  }
 },
 "nbformat": 4,
 "nbformat_minor": 5
}
