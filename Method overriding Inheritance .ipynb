{
 "cells": [
  {
   "cell_type": "code",
   "execution_count": 2,
   "id": "d3d377f9",
   "metadata": {
    "scrolled": false
   },
   "outputs": [
    {
     "name": "stdout",
     "output_type": "stream",
     "text": [
      "cash+ land+ gold + power\n",
      "Katrina...\n"
     ]
    }
   ],
   "source": [
    "class P:\n",
    "    def property(self):\n",
    "        print('cash+ land+ gold + power')\n",
    "    \n",
    "    def marry(self):\n",
    "        print(\"Subbalaxmi\")\n",
    "# parent has 2 methods\n",
    "\n",
    "class C(P):\n",
    "    def marry(self):\n",
    "        print('Katrina...')\n",
    "\n",
    "c = C()\n",
    "\n",
    "c.property()\n",
    "c.marry()\n",
    "    \n",
    "    \n",
    "# child override the method of marry of parent class\n",
    "#  here only method name should be same no of arguements can differ\n"
   ]
  },
  {
   "cell_type": "code",
   "execution_count": 5,
   "id": "e13a80d4",
   "metadata": {},
   "outputs": [
    {
     "name": "stdout",
     "output_type": "stream",
     "text": [
      "cash+ land+ gold + power\n",
      "Subbalaxmi\n",
      "Katrina...\n"
     ]
    }
   ],
   "source": [
    "# if chilld class wants the prev method of marrry\n",
    "class P:\n",
    "    def property(self):\n",
    "        print('cash+ land+ gold + power')\n",
    "    \n",
    "    def marry(self):\n",
    "        print(\"Subbalaxmi\")\n",
    "# parent has 2 methods\n",
    "\n",
    "class C(P):\n",
    "    def marry(self):\n",
    "        super().marry()\n",
    "        print('Katrina...')\n",
    "\n",
    "c = C()\n",
    "\n",
    "c.property()\n",
    "c.marry()"
   ]
  },
  {
   "cell_type": "raw",
   "id": "ce756a76",
   "metadata": {},
   "source": [
    "How we can use members of one class inside another class:\n",
    "\n",
    "1. by Using Composition(Has- A Relationship)\n",
    "2. by using Inheritance(Is - A relationship\n",
    "\n",
    "1. By using composition(has-A Relationship)"
   ]
  },
  {
   "cell_type": "markdown",
   "id": "bb4f77ee",
   "metadata": {},
   "source": [
    "# Composition (Has a relationship) "
   ]
  },
  {
   "cell_type": "raw",
   "id": "cdaa1c1a",
   "metadata": {},
   "source": [
    "creatig object in another class \n",
    "\n",
    "difference between composition and inner class\n",
    "if we want to use engine class for only car class then we can use Inner class\n",
    "\n",
    "but if we want to use engine class in car class and other class then we should use composition of has a relationship"
   ]
  },
  {
   "cell_type": "code",
   "execution_count": 6,
   "id": "223da463",
   "metadata": {},
   "outputs": [
    {
     "name": "stdout",
     "output_type": "stream",
     "text": [
      "Employee name Josh\n",
      "Employee Number 100\n",
      "Employee Car Info: \n",
      "Car Name: X5, Model: MSport and Color: Blue\n"
     ]
    }
   ],
   "source": [
    "# example of Has a relationship\n",
    "class Car:\n",
    "    def __init__(self,name, model, color):\n",
    "        self.name = name\n",
    "        self.model = model\n",
    "        self.color = color\n",
    "    def getinfo(self):\n",
    "        print('Car Name: {}, Model: {} and Color: {}'.format(self.name, self.model, self.color))\n",
    "        \n",
    "class Employee:\n",
    "    def __init__(self, ename,eno,car):\n",
    "        self.ename = ename\n",
    "        self.eno = eno\n",
    "        self.car = car\n",
    "    def empinfo(self):\n",
    "        print('Employee name', self.ename)\n",
    "        print('Employee Number', self.eno)\n",
    "        print('Employee Car Info: ')\n",
    "        self.car.getinfo()\n",
    "\n",
    "        \n",
    "c = Car('X5','MSport', 'Blue')\n",
    "e = Employee('Josh', 100, c)\n",
    "e.empinfo()\n",
    "              \n",
    "              \n",
    "              \n",
    "              \n",
    "\n",
    "          \n",
    "              \n",
    "            \n",
    "              \n",
    "        "
   ]
  },
  {
   "cell_type": "markdown",
   "id": "061e5966",
   "metadata": {},
   "source": [
    "In short\n",
    "\n",
    "class X:\n",
    "    def m1():\n",
    "    def m2():\n",
    "    def m3():\n",
    "    def m4():\n",
    "\n",
    "class Y:\n",
    "    x = X()\n",
    "    x.m1()\n",
    "    x.m2()\n",
    "    x.m3()\n",
    "    x.m4()\n",
    "    \n",
    "class Y has - a X refrence\n",
    "\n",
    "\n",
    "    \n",
    "    "
   ]
  },
  {
   "cell_type": "markdown",
   "id": "145e2efa",
   "metadata": {},
   "source": [
    "\n",
    "#  Inheritance\n"
   ]
  },
  {
   "cell_type": "markdown",
   "id": "2b6b02de",
   "metadata": {},
   "source": [
    "class X:\n",
    "    def m1():\n",
    "    def m2():\n",
    "    def m3():\n",
    "    def m4():\n",
    "\n",
    "class Y(X):\n",
    "\n",
    "y = Y()\n",
    "\n",
    "y.m1()\n",
    "y.m2()\n",
    "    \n",
    "\n",
    "In Java, Inheritance of constructor is not available \n",
    "\n",
    "In Python, Variables, Methods, Constructor everything is available to the \n",
    "child"
   ]
  },
  {
   "cell_type": "code",
   "execution_count": 13,
   "id": "083f2864",
   "metadata": {},
   "outputs": [
    {
     "name": "stdout",
     "output_type": "stream",
     "text": [
      "Constructor\n",
      "destructor\n",
      "Parent class instance method\n",
      "Parent class class method\n",
      "Parent class static method\n",
      "88888\n",
      "10\n"
     ]
    }
   ],
   "source": [
    "class X:\n",
    "    a = 10   # class variable\n",
    "    def m1(self):\n",
    "        print(\"Parent class instance method\")\n",
    "        \n",
    "    @classmethod\n",
    "    def m2(cls):\n",
    "        print(\"Parent class class method\")\n",
    "        \n",
    "    @staticmethod\n",
    "    def m3():\n",
    "        print('Parent class static method')\n",
    "        \n",
    "    def __init__(self):\n",
    "        self.b = 88888\n",
    "        print('Constructor')\n",
    "        \n",
    "    def __del__(self):\n",
    "        print('destructor')\n",
    "    \n",
    "class Y(X):\n",
    "    pass\n",
    "\n",
    "y = Y()\n",
    "y.m1()\n",
    "y.m2()\n",
    "y.m3()\n",
    "print(y.b)\n",
    "\n",
    "print(y.a)\n"
   ]
  },
  {
   "cell_type": "code",
   "execution_count": 15,
   "id": "7da22d8c",
   "metadata": {},
   "outputs": [
    {
     "name": "stdout",
     "output_type": "stream",
     "text": [
      "Constructor\n",
      "destructor\n",
      "7777\n"
     ]
    }
   ],
   "source": [
    "# first priority is for child class \n",
    "\n",
    "\n",
    "class X:\n",
    "    a = 10   # class variable\n",
    "    def m1(self):\n",
    "        print(\"Parent class instance method\")\n",
    "        \n",
    "    @classmethod\n",
    "    def m2(cls):\n",
    "        print(\"Parent class class method\")\n",
    "        \n",
    "    @staticmethod\n",
    "    def m3():\n",
    "        print('Parent class static method')\n",
    "        \n",
    "    def __init__(self):\n",
    "        self.b = 88888\n",
    "        print('Constructor')\n",
    "        \n",
    "    def __del__(self):                # destructor\n",
    "        print('destructor')\n",
    "    \n",
    "class Y(X):\n",
    "    a = 7777\n",
    "   \n",
    "\n",
    "y = Y()\n",
    "# y.m1()\n",
    "# y.m2()\n",
    "# y.m3()\n",
    "# print(y.b)\n",
    "\n",
    "print(y.a)\n"
   ]
  },
  {
   "cell_type": "markdown",
   "id": "8b0e9ace",
   "metadata": {},
   "source": [
    "# SUPPER() ::::>>>   super()"
   ]
  },
  {
   "cell_type": "code",
   "execution_count": 21,
   "id": "589d8f9b",
   "metadata": {},
   "outputs": [
    {
     "name": "stdout",
     "output_type": "stream",
     "text": [
      " child Constructor\n",
      "Parent Constructor\n",
      "Parent class instance method\n",
      "destructor\n",
      "m1\n",
      "Parent class instance method\n",
      "10\n"
     ]
    }
   ],
   "source": [
    "class X:\n",
    "    a = 10   # class variable\n",
    "    def m1(self):\n",
    "        print(\"Parent class instance method\")\n",
    "        \n",
    "    @classmethod\n",
    "    def m2(cls):\n",
    "        print(\"Parent class class method\")\n",
    "        \n",
    "    @staticmethod\n",
    "    def m3():\n",
    "        print('Parent class static method')\n",
    "        \n",
    "    def __init__(self):\n",
    "        self.b = 88888\n",
    "        print('Parent Constructor')\n",
    "        \n",
    "    def __del__(self):\n",
    "        print('destructor')\n",
    "    \n",
    "class Y(X):\n",
    "    def __init__(self):\n",
    "              \n",
    "        print(' child Constructor')\n",
    "        super().__init__()# calling constructor of parent class\n",
    "        super().m1()\n",
    "    \n",
    "    def m1(self):\n",
    "        print(\"m1\")\n",
    "#         super().m1()\n",
    "        \n",
    "    \n",
    "    \n",
    "\n",
    "y = Y()\n",
    "y.m1()\n",
    "# y.m2()\n",
    "# y.m3()\n",
    "# print(y.b)\n",
    "\n",
    "print(y.a)\n"
   ]
  },
  {
   "cell_type": "code",
   "execution_count": 23,
   "id": "939979de",
   "metadata": {},
   "outputs": [
    {
     "ename": "AttributeError",
     "evalue": "'Soft_Eng' object has no attribute 'name'",
     "output_type": "error",
     "traceback": [
      "\u001b[1;31m---------------------------------------------------------------------------\u001b[0m",
      "\u001b[1;31mAttributeError\u001b[0m                            Traceback (most recent call last)",
      "\u001b[1;32m~\\AppData\\Local\\Temp/ipykernel_712/4144120851.py\u001b[0m in \u001b[0;36m<module>\u001b[1;34m\u001b[0m\n\u001b[0;32m     14\u001b[0m \u001b[1;33m\u001b[0m\u001b[0m\n\u001b[0;32m     15\u001b[0m \u001b[0ms\u001b[0m \u001b[1;33m=\u001b[0m \u001b[0mSoft_Eng\u001b[0m\u001b[1;33m(\u001b[0m\u001b[1;34m'Josh'\u001b[0m\u001b[1;33m,\u001b[0m\u001b[1;36m48\u001b[0m\u001b[1;33m,\u001b[0m\u001b[1;36m100\u001b[0m\u001b[1;33m,\u001b[0m\u001b[1;36m100000\u001b[0m\u001b[1;33m)\u001b[0m\u001b[1;33m\u001b[0m\u001b[1;33m\u001b[0m\u001b[0m\n\u001b[1;32m---> 16\u001b[1;33m \u001b[0mprint\u001b[0m\u001b[1;33m(\u001b[0m\u001b[0ms\u001b[0m\u001b[1;33m.\u001b[0m\u001b[0mname\u001b[0m\u001b[1;33m,\u001b[0m \u001b[0ms\u001b[0m\u001b[1;33m.\u001b[0m\u001b[0mage\u001b[0m\u001b[1;33m)\u001b[0m\u001b[1;33m\u001b[0m\u001b[1;33m\u001b[0m\u001b[0m\n\u001b[0m\u001b[0;32m     17\u001b[0m \u001b[1;33m\u001b[0m\u001b[0m\n",
      "\u001b[1;31mAttributeError\u001b[0m: 'Soft_Eng' object has no attribute 'name'"
     ]
    }
   ],
   "source": [
    "class Person:\n",
    "    def __init__(self,name,age):\n",
    "        self.name = name\n",
    "        self.age = age\n",
    "    def eatndrink(self):\n",
    "        print('Biryani Eating and Beer Drinking')\n",
    "        \n",
    "class Soft_Eng(Person):\n",
    "    def __init__(self,name,age, eno, esal):\n",
    "        self.eno= eno\n",
    "        self.esal = esal\n",
    "    def work(self):\n",
    "        print('Python Coding is somethig like drinking chilled beer')\n",
    "        \n",
    "s = Soft_Eng('Josh',48,100,100000)\n",
    "print(s.name, s.age)\n",
    "    "
   ]
  },
  {
   "cell_type": "markdown",
   "id": "dd3ef687",
   "metadata": {},
   "source": [
    "name and age has no ref in child class so we cant call it so lets use supper class\n"
   ]
  },
  {
   "cell_type": "code",
   "execution_count": 24,
   "id": "16ae83d1",
   "metadata": {},
   "outputs": [
    {
     "name": "stdout",
     "output_type": "stream",
     "text": [
      "Josh 48\n"
     ]
    }
   ],
   "source": [
    "class Person:\n",
    "    def __init__(self,name,age):\n",
    "        self.name = name\n",
    "        self.age = age\n",
    "    def eatndrink(self):\n",
    "        print('Biryani Eating and Beer Drinking')\n",
    "        \n",
    "class Soft_Eng(Person):\n",
    "    def __init__(self,name,age, eno, esal):\n",
    "        super().__init__(name,age)\n",
    "        self.eno= eno\n",
    "        self.esal = esal\n",
    "    def work(self):\n",
    "        print('Python Coding is somethig like drinking chilled beer')\n",
    "        \n",
    "s = Soft_Eng('Josh',48,100,100000)\n",
    "print(s.name, s.age)"
   ]
  },
  {
   "cell_type": "markdown",
   "id": "b0727826",
   "metadata": {},
   "source": [
    "About super() we can access everything of class variable by using super except the instance variable\n",
    "instance variable should by accessed by self only"
   ]
  },
  {
   "cell_type": "code",
   "execution_count": 32,
   "id": "a225c39c",
   "metadata": {},
   "outputs": [
    {
     "name": "stdout",
     "output_type": "stream",
     "text": [
      "10\n"
     ]
    },
    {
     "ename": "AttributeError",
     "evalue": "'super' object has no attribute 'a'",
     "output_type": "error",
     "traceback": [
      "\u001b[1;31m---------------------------------------------------------------------------\u001b[0m",
      "\u001b[1;31mAttributeError\u001b[0m                            Traceback (most recent call last)",
      "\u001b[1;32m~\\AppData\\Local\\Temp/ipykernel_712/656650276.py\u001b[0m in \u001b[0;36m<module>\u001b[1;34m\u001b[0m\n\u001b[0;32m     11\u001b[0m \u001b[1;33m\u001b[0m\u001b[0m\n\u001b[0;32m     12\u001b[0m \u001b[1;33m\u001b[0m\u001b[0m\n\u001b[1;32m---> 13\u001b[1;33m \u001b[0mc\u001b[0m \u001b[1;33m=\u001b[0m\u001b[0mC\u001b[0m\u001b[1;33m(\u001b[0m\u001b[1;33m)\u001b[0m\u001b[1;33m\u001b[0m\u001b[1;33m\u001b[0m\u001b[0m\n\u001b[0m\u001b[0;32m     14\u001b[0m \u001b[0mc\u001b[0m\u001b[1;33m.\u001b[0m\u001b[0mm1\u001b[0m\u001b[1;33m(\u001b[0m\u001b[1;33m)\u001b[0m\u001b[1;33m\u001b[0m\u001b[1;33m\u001b[0m\u001b[0m\n",
      "\u001b[1;32m~\\AppData\\Local\\Temp/ipykernel_712/656650276.py\u001b[0m in \u001b[0;36m__init__\u001b[1;34m(self)\u001b[0m\n\u001b[0;32m      8\u001b[0m         \u001b[0mprint\u001b[0m\u001b[1;33m(\u001b[0m\u001b[0mself\u001b[0m\u001b[1;33m.\u001b[0m\u001b[0ma\u001b[0m\u001b[1;33m)\u001b[0m\u001b[1;33m\u001b[0m\u001b[1;33m\u001b[0m\u001b[0m\n\u001b[0;32m      9\u001b[0m \u001b[1;33m\u001b[0m\u001b[0m\n\u001b[1;32m---> 10\u001b[1;33m         \u001b[0mprint\u001b[0m\u001b[1;33m(\u001b[0m\u001b[0msuper\u001b[0m\u001b[1;33m(\u001b[0m\u001b[1;33m)\u001b[0m\u001b[1;33m.\u001b[0m\u001b[0ma\u001b[0m\u001b[1;33m)\u001b[0m\u001b[1;33m\u001b[0m\u001b[1;33m\u001b[0m\u001b[0m\n\u001b[0m\u001b[0;32m     11\u001b[0m \u001b[1;33m\u001b[0m\u001b[0m\n\u001b[0;32m     12\u001b[0m \u001b[1;33m\u001b[0m\u001b[0m\n",
      "\u001b[1;31mAttributeError\u001b[0m: 'super' object has no attribute 'a'"
     ]
    }
   ],
   "source": [
    "class P:\n",
    "    def m1(self):\n",
    "        self.a = 10\n",
    "        \n",
    "class C(P):\n",
    "    def __init__(self):\n",
    "        super().m1()\n",
    "        print(self.a)\n",
    "\n",
    "        print(super().a)\n",
    "\n",
    "\n",
    "c =C()\n",
    "c.m1()"
   ]
  },
  {
   "cell_type": "markdown",
   "id": "075ed2e7",
   "metadata": {},
   "source": []
  }
 ],
 "metadata": {
  "kernelspec": {
   "display_name": "Python 3 (ipykernel)",
   "language": "python",
   "name": "python3"
  },
  "language_info": {
   "codemirror_mode": {
    "name": "ipython",
    "version": 3
   },
   "file_extension": ".py",
   "mimetype": "text/x-python",
   "name": "python",
   "nbconvert_exporter": "python",
   "pygments_lexer": "ipython3",
   "version": "3.9.7"
  }
 },
 "nbformat": 4,
 "nbformat_minor": 5
}
