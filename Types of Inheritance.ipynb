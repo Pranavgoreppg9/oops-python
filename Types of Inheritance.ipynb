{
 "cells": [
  {
   "cell_type": "markdown",
   "id": "4b7478d1",
   "metadata": {},
   "source": [
    "Types of Inheritance:\n",
    "\n",
    "1. single\n",
    "2. Multi level\n",
    "3. Hierarchical \n",
    "4. Multiple\n",
    "5. Cyclic\n",
    "6. Hybrid\n"
   ]
  },
  {
   "cell_type": "code",
   "execution_count": null,
   "id": "9f7a3e6d",
   "metadata": {},
   "outputs": [],
   "source": [
    "# Single Inheritance\n",
    "\n",
    "class P:\n",
    "    def m1(self):\n",
    "        print(\"Parent method\")\n",
    "        \n",
    "class C(P):\n",
    "    def m2(self):\n",
    "        print('Child Method')\n",
    "        \n",
    "c = C()\n",
    "c.m1()\n",
    "c.m2()"
   ]
  },
  {
   "cell_type": "code",
   "execution_count": 11,
   "id": "b1a49b11",
   "metadata": {},
   "outputs": [
    {
     "name": "stdout",
     "output_type": "stream",
     "text": [
      "Parent method\n",
      "Child Method\n",
      "Grand child method\n"
     ]
    }
   ],
   "source": [
    "# Multi level inheritance\n",
    "class P:\n",
    "    def m1(self):\n",
    "        print(\"Parent method\")\n",
    "        \n",
    "\n",
    "class C(P):\n",
    "    def m2(self):\n",
    "        print('Child Method')\n",
    "\n",
    "class D(C):\n",
    "    def m3(self):\n",
    "        print(\"Grand child method\")\n",
    "        \n",
    "        \n",
    "c = D()\n",
    "c.m1()\n",
    "c.m2()\n",
    "c.m3()\n"
   ]
  },
  {
   "cell_type": "code",
   "execution_count": 9,
   "id": "69b81be4",
   "metadata": {},
   "outputs": [
    {
     "data": {
      "text/plain": [
       "<bound method P.m1 of <__main__.C1 object at 0x000002430AA9C940>>"
      ]
     },
     "execution_count": 9,
     "metadata": {},
     "output_type": "execute_result"
    }
   ],
   "source": [
    "# Hierarchical inheritance\n",
    "\n",
    "class P:\n",
    "    def m1(self):\n",
    "        print(\"Parent method\")\n",
    "        \n",
    "\n",
    "class C1(P):\n",
    "    def m2(self):\n",
    "        print('Child Method')\n",
    "\n",
    "class C2(P):\n",
    "    def m3(self):\n",
    "        print(\"Grand child method\")\n",
    "        \n",
    "\n",
    "c1 = C1()\n",
    "c1.m1\n",
    "c1.m2\n",
    "\n",
    "c2 = C2()\n",
    "c2.m1\n",
    "c2.m3\n"
   ]
  },
  {
   "cell_type": "code",
   "execution_count": 12,
   "id": "139cb662",
   "metadata": {},
   "outputs": [
    {
     "name": "stdout",
     "output_type": "stream",
     "text": [
      "This function is in parent class.\n",
      "This function is in child 1.\n",
      "This function is in parent class.\n",
      "This function is in child 2.\n"
     ]
    }
   ],
   "source": [
    "class Parent:\n",
    "    def func1(self):\n",
    "        print(\"This function is in parent class.\")\n",
    " \n",
    "\n",
    " \n",
    " \n",
    "class Child1(Parent):\n",
    "    def func2(self):\n",
    "        print(\"This function is in child 1.\")\n",
    "\n",
    " \n",
    " \n",
    "class Child2(Parent):\n",
    "    def func3(self):\n",
    "        print(\"This function is in child 2.\")\n",
    " \n",
    " \n",
    "\n",
    "object1 = Child1()\n",
    "object2 = Child2()\n",
    "object1.func1()\n",
    "object1.func2()\n",
    "object2.func1()\n",
    "object2.func3()\n"
   ]
  },
  {
   "cell_type": "code",
   "execution_count": 14,
   "id": "1bf80e8f",
   "metadata": {},
   "outputs": [
    {
     "name": "stdout",
     "output_type": "stream",
     "text": [
      "Inherited properties from parets\n",
      "Height is 6 feet\n",
      "Fair \n"
     ]
    }
   ],
   "source": [
    "# 4  Multiple Inheritance    Important for interview room\n",
    "# multiple parent classes\n",
    "    \n",
    "class Father:\n",
    "    def height(self):\n",
    "        print('Height is 6 feet')\n",
    "\n",
    "        \n",
    "class Mother:\n",
    "    def color(self):\n",
    "        print('Fair ')\n",
    "        \n",
    "        \n",
    "class Child(Father, Mother):\n",
    "    pass\n",
    "\n",
    "c = Child()\n",
    "\n",
    "print(\"Inherited properties from parets\")\n",
    "c.height()\n",
    "c.color()\n",
    "\n"
   ]
  },
  {
   "cell_type": "code",
   "execution_count": 15,
   "id": "412ae8a5",
   "metadata": {},
   "outputs": [
    {
     "name": "stdout",
     "output_type": "stream",
     "text": [
      "P1 method\n"
     ]
    }
   ],
   "source": [
    "class P1:\n",
    "    def m1(self):\n",
    "        print(\"P1 method\")\n",
    "\n",
    "        \n",
    "class P2:\n",
    "    def m1(self):\n",
    "        print(\"P2 method\")\n",
    "        \n",
    "        \n",
    "class C(P1, P2):\n",
    "    pass\n",
    "\n",
    "c = C()\n",
    "c.m1()\n",
    "\n",
    "# If two classes contan same name method the first priority is given to the \n",
    "# first inheritance arguement < class C(P1, P2) > P1 has first priority if any\n",
    "# ambiguity"
   ]
  },
  {
   "cell_type": "code",
   "execution_count": 17,
   "id": "27148c4a",
   "metadata": {},
   "outputs": [
    {
     "name": "stdout",
     "output_type": "stream",
     "text": [
      "Child  method\n"
     ]
    }
   ],
   "source": [
    "class P1:\n",
    "    def m1(self):\n",
    "        print(\"P1 method\")\n",
    "\n",
    "        \n",
    "class P2:\n",
    "    pass\n",
    "    \n",
    "        \n",
    "        \n",
    "class C(P1, P2):\n",
    "    def m1(self):\n",
    "        print(\"Child  method\")\n",
    "    \n",
    "\n",
    "c = C()\n",
    "c.m1()"
   ]
  },
  {
   "cell_type": "markdown",
   "id": "86adae73",
   "metadata": {},
   "source": [
    "cyclic inheritance not supported in python rather not required in any case\n"
   ]
  },
  {
   "cell_type": "code",
   "execution_count": 21,
   "id": "148ee546",
   "metadata": {},
   "outputs": [
    {
     "name": "stdout",
     "output_type": "stream",
     "text": [
      "10\n"
     ]
    }
   ],
   "source": [
    "class A(B):\n",
    "    a = 10\n",
    "    \n",
    "class B(A):\n",
    "    pass\n",
    "\n",
    "\n",
    "c = C()\n",
    "print(c.a)\n",
    "\n"
   ]
  },
  {
   "cell_type": "code",
   "execution_count": null,
   "id": "a560d84b",
   "metadata": {},
   "outputs": [],
   "source": [
    "\n",
    "\n"
   ]
  },
  {
   "cell_type": "code",
   "execution_count": null,
   "id": "bbfa9a23",
   "metadata": {},
   "outputs": [],
   "source": []
  },
  {
   "cell_type": "code",
   "execution_count": null,
   "id": "59b59437",
   "metadata": {},
   "outputs": [],
   "source": []
  },
  {
   "cell_type": "code",
   "execution_count": null,
   "id": "dde6ef95",
   "metadata": {},
   "outputs": [],
   "source": []
  }
 ],
 "metadata": {
  "kernelspec": {
   "display_name": "Python 3 (ipykernel)",
   "language": "python",
   "name": "python3"
  },
  "language_info": {
   "codemirror_mode": {
    "name": "ipython",
    "version": 3
   },
   "file_extension": ".py",
   "mimetype": "text/x-python",
   "name": "python",
   "nbconvert_exporter": "python",
   "pygments_lexer": "ipython3",
   "version": "3.9.7"
  }
 },
 "nbformat": 4,
 "nbformat_minor": 5
}
