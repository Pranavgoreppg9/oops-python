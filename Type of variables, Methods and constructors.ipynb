{
 "cells": [
  {
   "cell_type": "markdown",
   "id": "f5a2199a",
   "metadata": {},
   "source": [
    "self is an implicit variable which is always provided by pvm\n",
    "self is always pointing to the current object\n",
    "for every constructor and instace method the first arguemnt should be self.\n",
    "within the class self can be  used to declare instance variables and to access instance variables "
   ]
  },
  {
   "cell_type": "markdown",
   "id": "8db029f8",
   "metadata": {},
   "source": [
    "Constructor\n",
    "special method in python\n",
    "__init__()\n",
    "will be exeecuted at the time of object creation\n",
    "purpose is to declare and initialize the instance variables\n",
    "per object constructor can be executed only once\n",
    "\n",
    "constructor has atlest one arguement(self)\n",
    "not mandetory for every class but python will provide default constructor\n",
    "\n"
   ]
  },
  {
   "cell_type": "code",
   "execution_count": 1,
   "id": "f460bfbf",
   "metadata": {},
   "outputs": [
    {
     "name": "stdout",
     "output_type": "stream",
     "text": [
      "constructor executed\n"
     ]
    }
   ],
   "source": [
    "class Test:\n",
    "    def __init__(self):\n",
    "        print('constructor executed')\n",
    "\n",
    "t = Test()\n",
    "        \n"
   ]
  },
  {
   "cell_type": "code",
   "execution_count": 5,
   "id": "825f00fa",
   "metadata": {},
   "outputs": [
    {
     "name": "stdout",
     "output_type": "stream",
     "text": [
      "one-arg\n"
     ]
    }
   ],
   "source": [
    "# overloading constructor\n",
    "\n",
    "class Test:\n",
    "    def __init__(self):\n",
    "        print('no args')\n",
    "        \n",
    "    def __init__(self,x):   # overloaded constructors(not available in python)\n",
    "        print('one-arg')\n",
    "        \n",
    "        # when ever we are writing second constructor that is priorited and \n",
    "        # first one is no more (puython will consider most recent one or last)\n",
    "        \n",
    "# t1 = Test() #try uncommenting it\n",
    "t2 = Test(10)"
   ]
  },
  {
   "cell_type": "code",
   "execution_count": 9,
   "id": "e32c7679",
   "metadata": {},
   "outputs": [
    {
     "name": "stdout",
     "output_type": "stream",
     "text": [
      "constructor execution\n",
      "method execution\n",
      "Hello Myself: Pranav\n",
      "Roll no  100\n"
     ]
    }
   ],
   "source": [
    "class Student:\n",
    "    def __init__(self,name, rollno):\n",
    "        print('constructor execution')\n",
    "        self.name = name\n",
    "        self.rollno = rollno\n",
    "    \n",
    "    def display(self):\n",
    "        print('method execution')\n",
    "        print('Hello Myself:',self.name)\n",
    "        print('Roll no ', self.rollno)\n",
    "a = Student('Pranav', 100)\n",
    "a.display()\n",
    "\n",
    "\n"
   ]
  },
  {
   "cell_type": "markdown",
   "id": "97a16d44",
   "metadata": {},
   "source": [
    "purpose of the constructor is to declare and initialize the instance variables\\\n",
    "constructor can be called only ones for the object \n",
    "purpose of the methods is to perform some business logic and code\n",
    "method can be called any no of times \n",
    "\n",
    "name of method can be any thing but name of constructor should be __init__\n",
    "\n",
    "\n",
    "method will be executed if we call \n",
    "\n",
    "constructor will be executed automatically\n",
    "\n",
    "we can implement certain business logic in constructor but it is not a good \n",
    "coding practice"
   ]
  },
  {
   "cell_type": "markdown",
   "id": "3d9b1fac",
   "metadata": {},
   "source": [
    "Inside python class\n",
    "\n",
    "3 types of variables\n",
    "\n",
    "1. Instance variables / object level variabes\n",
    "        seperate copy of instace variabes is created for every object\n",
    "        if the value of the variabe varies from object to object it is instance\n",
    "        variable \n",
    "        declared using self\n",
    "        \n",
    "        \n",
    "2. static variables / class level variables\n",
    "        for all objects one copy is created\n",
    "        \n",
    "        \n",
    "        \n",
    "\n",
    "3. Local variables\n",
    "        variables declared inside the method or constructor without self \n",
    "\n",
    "\n",
    "3 Types of Methods\n",
    "\n",
    "1. Instance Methods / object related methods\n",
    "        first arguement is self\n",
    "        \n",
    "        \n",
    "2. class methods / class related\n",
    "        @classmethod decorator is mandetory for class method\n",
    "        It can modify a class state that would apply across all the\n",
    "        instances of the class. For example, it can modify a class variable\n",
    "        that would be applicable to all the instances.\n",
    "        \n",
    "        cls is reference variable to class object\n",
    "        for every class one special object will be created by  PVM to \n",
    "        maintain class level information, which is nothing but class livel \n",
    "        object. cls is the reference variable pointing to that object\n",
    "        \n",
    "        used to point to the class variables \n",
    "        \n",
    "        can be accessed by the object and class\n",
    "        \n",
    "3. static methods / general utility method\n",
    "        declared by using @staicmethod decorator\n",
    "        no self, no cls\n",
    "        \n",
    "        if you not declare the decorator then you can call by using Class\n",
    "        name\n",
    "        \n",
    "        \n",
    "        \n",
    "        can be called as\n",
    "    \n",
    "\n",
    "if decorators are not given they are treated as instance methods\n",
    "\n",
    "        "
   ]
  },
  {
   "cell_type": "code",
   "execution_count": 23,
   "id": "fbe72110",
   "metadata": {},
   "outputs": [
    {
     "name": "stdout",
     "output_type": "stream",
     "text": [
      "constructor execution\n",
      " SITS\n",
      "method execution\n",
      "Hello Myself: Pranav\n",
      "Roll no  100\n",
      "College Name:   SITS\n"
     ]
    },
    {
     "ename": "TypeError",
     "evalue": "findAverage() takes 2 positional arguments but 3 were given",
     "output_type": "error",
     "traceback": [
      "\u001b[1;31m---------------------------------------------------------------------------\u001b[0m",
      "\u001b[1;31mTypeError\u001b[0m                                 Traceback (most recent call last)",
      "\u001b[1;32m~\\AppData\\Local\\Temp/ipykernel_31540/1984987955.py\u001b[0m in \u001b[0;36m<module>\u001b[1;34m\u001b[0m\n\u001b[0;32m     28\u001b[0m \u001b[1;33m\u001b[0m\u001b[0m\n\u001b[0;32m     29\u001b[0m \u001b[0ma\u001b[0m\u001b[1;33m.\u001b[0m\u001b[0mgetCollegeName\u001b[0m\u001b[1;33m(\u001b[0m\u001b[1;33m)\u001b[0m\u001b[1;33m\u001b[0m\u001b[1;33m\u001b[0m\u001b[0m\n\u001b[1;32m---> 30\u001b[1;33m \u001b[0ma\u001b[0m\u001b[1;33m.\u001b[0m\u001b[0mfindAverage\u001b[0m\u001b[1;33m(\u001b[0m\u001b[1;36m10\u001b[0m\u001b[1;33m,\u001b[0m \u001b[1;36m20\u001b[0m\u001b[1;33m)\u001b[0m\u001b[1;33m\u001b[0m\u001b[1;33m\u001b[0m\u001b[0m\n\u001b[0m",
      "\u001b[1;31mTypeError\u001b[0m: findAverage() takes 2 positional arguments but 3 were given"
     ]
    }
   ],
   "source": [
    "class Student:\n",
    "    college_name = ' SITS'             # class variables\n",
    "    def __init__(self,name, rollno):   #here name and rollno are local variabes\n",
    "        \n",
    "        print('constructor execution')\n",
    "        self.name = name              # instance variables\n",
    "        self.rollno = rollno          # instance variables\n",
    "    \n",
    "    def display(self):    # Instance method\n",
    "        identy_schema = 100         # local variables\n",
    "        print('method execution')\n",
    "        print('Hello Myself:',self.name)\n",
    "        print('Roll no ', self.rollno)\n",
    "        \n",
    "    @classmethod              # decorator\n",
    "    def getCollegeName(cls):\n",
    "        print('College Name: ', cls.college_name)\n",
    "    \n",
    "    @staticmethod     # try commeting this\n",
    "    def findAverage(x,y):\n",
    "        print('Average len of words')\n",
    "        \n",
    "    \n",
    "    \n",
    "a = Student('Pranav', 100)\n",
    "print(a.college_name)\n",
    "a.display()\n",
    "\n",
    "a.getCollegeName()\n",
    "a.findAverage(10, 20)\n"
   ]
  },
  {
   "cell_type": "code",
   "execution_count": 24,
   "id": "a2883fa9",
   "metadata": {},
   "outputs": [
    {
     "name": "stdout",
     "output_type": "stream",
     "text": [
      "constructor execution\n",
      "College Name:   SITS\n",
      "Average len of words\n"
     ]
    }
   ],
   "source": [
    "Student('Pranav', 100)\n",
    "\n",
    "\n",
    "Student.getCollegeName() \n",
    "Student.findAverage(10, 20)"
   ]
  },
  {
   "cell_type": "markdown",
   "id": "bb5404ab",
   "metadata": {},
   "source": [
    "# # Instance variables"
   ]
  },
  {
   "cell_type": "markdown",
   "id": "657a3386",
   "metadata": {},
   "source": [
    "|if value of a variables is varied form object to object \n",
    "every object has a seperate copy\n",
    "\n",
    "Where we can declare instance variables\n",
    "\n",
    "1. Inside constructor by using self\n",
    "2. Inside instance method by using self\n",
    "3. From outside of the class by using object refrence\n",
    "\n"
   ]
  },
  {
   "cell_type": "code",
   "execution_count": 32,
   "id": "d674f577",
   "metadata": {},
   "outputs": [
    {
     "name": "stdout",
     "output_type": "stream",
     "text": [
      "{'name': 'Durga', 'rollno': 101}\n",
      "----------------------------------------------------------------------\n",
      "{'name': 'Durga', 'rollno': 101, 'marks': 60}\n",
      "----------------------------------------------------------------------\n",
      "{'name': 'Durga', 'rollno': 101, 'marks': 60, 'age': 24}\n",
      "----------------------------------------------------------------------\n",
      "{'name': 'Pavan', 'rollno': 102, 'wife': 'Renu'}\n"
     ]
    }
   ],
   "source": [
    "class Student:\n",
    "    def __init__(self,name, rollno):\n",
    "        self.name = name\n",
    "        self.rollno = rollno\n",
    "        \n",
    "    def info(self):\n",
    "        self.marks= 60 # instance variable\n",
    "        x=10             # local variable\n",
    "        \n",
    "        \n",
    "s1 = Student('Durga',101)   # this object will have only two instance methoc\n",
    "                            # as the instance method is not called\n",
    "\n",
    "print(s1.__dict__)   # gives the instance variables\n",
    "\n",
    "print(\"--\"*35)\n",
    "\n",
    "s1.info()         # now there willbe 3 instance variables\n",
    "\n",
    "print(s1.__dict__)\n",
    "print(\"--\"*35)\n",
    "\n",
    "\n",
    "s1.age = 24        # instance variable created outside the class\n",
    "\n",
    "print(s1.__dict__) # dict with object gives instance variables\n",
    "\n",
    "# now for the second object\n",
    "print(\"--\"*35)\n",
    "s2= Student('Pavan',102)\n",
    "s2.wife = 'Renu'\n",
    "print(s2.__dict__)"
   ]
  },
  {
   "cell_type": "code",
   "execution_count": 34,
   "id": "417e15a3",
   "metadata": {},
   "outputs": [
    {
     "name": "stdout",
     "output_type": "stream",
     "text": [
      "hello my rollno is: Durga\n",
      "My roll no: 101\n",
      "----------------------------------------------------------------------\n",
      "Durga 101\n"
     ]
    }
   ],
   "source": [
    "# Accessing the instance variables \n",
    "\n",
    "\n",
    "# within the class by using self\n",
    "# from outside by using refrence variables\n",
    "\n",
    "class Student:\n",
    "    def __init__(self,name, rollno):\n",
    "        self.name = name\n",
    "        self.rollno = rollno\n",
    "    \n",
    "    def display(self):\n",
    "        print('hello my rollno is:', self.name)\n",
    "        print('My roll no:', self.rollno)\n",
    "s = Student('Durga', 101)\n",
    "s.display()\n",
    "print(\"--\"*35)\n",
    "\n",
    "print(s.name, s.rollno)\n",
    "        "
   ]
  },
  {
   "cell_type": "markdown",
   "id": "74d8f1a5",
   "metadata": {},
   "source": [
    "how to delete the instance variables\n",
    "\n",
    "syntax\n",
    "del  self.variablename\n",
    "del objectreference. variablename\n"
   ]
  },
  {
   "cell_type": "code",
   "execution_count": 42,
   "id": "ca9a936c",
   "metadata": {
    "scrolled": true
   },
   "outputs": [
    {
     "name": "stdout",
     "output_type": "stream",
     "text": [
      "{'a': 10, 'b': 10, 'c': 10, 'd': 22}\n",
      "----------------------------------------------------------------------\n",
      "{'a': 10, 'd': 22}\n",
      "----------------------------------------------------------------------\n",
      "{'a': 10}\n",
      "----------------------------------------------------------------------\n"
     ]
    }
   ],
   "source": [
    "class Test:\n",
    "    def __init__(self):\n",
    "        self.a = 10\n",
    "        self.b = 10\n",
    "        self.c = 10\n",
    "        self.d = 22\n",
    "    \n",
    "    def delete(self):\n",
    "        del self.b\n",
    "        del self.c\n",
    "\n",
    "t1 = Test()\n",
    "\n",
    "print(t1.__dict__)\n",
    "print(\"--\"*35)\n",
    "t1.delete()\n",
    "\n",
    "print(t1.__dict__)\n",
    "print(\"--\"*35)\n",
    "\n",
    "del t1.d\n",
    "print(t1.__dict__)\n",
    "print(\"--\"*35)\n",
    "\n",
    "del t1"
   ]
  },
  {
   "cell_type": "code",
   "execution_count": 43,
   "id": "502209f7",
   "metadata": {},
   "outputs": [
    {
     "name": "stdout",
     "output_type": "stream",
     "text": [
      "888 999\n",
      "20 20\n"
     ]
    }
   ],
   "source": [
    "class Test:\n",
    "    def __init__(self):\n",
    "        self.a=20\n",
    "        self.b=20\n",
    "\n",
    "t1 = Test()\n",
    "t2 = Test()\n",
    "t1.a = 888\n",
    "t1.b = 999\n",
    "print(t1.a, t1.b)\n",
    "print(t2.a, t2.b)"
   ]
  },
  {
   "cell_type": "markdown",
   "id": "d2c6ec55",
   "metadata": {},
   "source": [
    "# static variables\n",
    "    "
   ]
  },
  {
   "cell_type": "markdown",
   "id": "8073c23f",
   "metadata": {},
   "source": [
    "instance variable: For every object a seperate copy\n",
    "    \n",
    "static: For all objects a single copy maintained at class level"
   ]
  },
  {
   "cell_type": "code",
   "execution_count": 44,
   "id": "705a14b3",
   "metadata": {},
   "outputs": [
    {
     "name": "stdout",
     "output_type": "stream",
     "text": [
      "Narayan 101 SITS\n",
      "Pavan 102 SITS\n"
     ]
    }
   ],
   "source": [
    "class Student:\n",
    "    cname =  'SITS'\n",
    "    def __init__(self,name,rollno):\n",
    "        self.name = name\n",
    "        self.rollno = rollno\n",
    "\n",
    "s1 = Student('Narayan', 101)\n",
    "s1 = Student('Narayan', 101)\n",
    "\n",
    "print(s1.name, s1.rollno, Student.cname)\n",
    "print(s2.name, s2.rollno, Student.cname)\n"
   ]
  },
  {
   "cell_type": "markdown",
   "id": "737354af",
   "metadata": {},
   "source": [
    "various places to declare static variables\n",
    "\n",
    "1. In class directly but from outside form method\n",
    "2. Inside constructor by usig classname\n",
    "3. Inside instance method by using classname\n",
    "4. inside the classmethod by using cls or classname\n",
    "5. Inside the staicmethod by using classname\n",
    "6. outside the  class by using class name\n",
    "\n",
    "\n"
   ]
  },
  {
   "cell_type": "code",
   "execution_count": 45,
   "id": "d01a7474",
   "metadata": {},
   "outputs": [
    {
     "name": "stdout",
     "output_type": "stream",
     "text": [
      "{'__module__': '__main__', 'a': 10, '__init__': <function Test.__init__ at 0x0000025B42DFA280>, 'm1': <function Test.m1 at 0x0000025B42DFA4C0>, 'm2': <classmethod object at 0x0000025B45286E50>, 'm3': <staticmethod object at 0x0000025B452869D0>, '__dict__': <attribute '__dict__' of 'Test' objects>, '__weakref__': <attribute '__weakref__' of 'Test' objects>, '__doc__': None, 'g': 70}\n"
     ]
    }
   ],
   "source": [
    "class Test:\n",
    "    a = 10\n",
    "    def __init__(self):\n",
    "        Test.b=20\n",
    "    def m1(self):\n",
    "        Test.c= 30\n",
    "    \n",
    "    @classmethod\n",
    "    def m2(cls):\n",
    "        cls.d = 40\n",
    "        Test.e = 50\n",
    "    \n",
    "    @staticmethod\n",
    "    def m3():\n",
    "        Test.f = 60\n",
    "Test.g = 70\n",
    "\n",
    "print(Test.__dict__)  # dict with Classname gives static variables"
   ]
  },
  {
   "cell_type": "markdown",
   "id": "a2643908",
   "metadata": {},
   "source": [
    "how to access static varaiables\n",
    "\n",
    "we can access static variable either by classname or by object refernce\n",
    "\n",
    "within the class\n",
    "-------------------------\n",
    "classname, self, cls\n",
    "\n",
    "outside of the class\n",
    "-----------------------------\n",
    "object refrence, classname\n"
   ]
  },
  {
   "cell_type": "code",
   "execution_count": 47,
   "id": "f1d28cc6",
   "metadata": {},
   "outputs": [
    {
     "name": "stdout",
     "output_type": "stream",
     "text": [
      "Inside constructor\n",
      "10\n",
      "10\n",
      "inside instance method\n",
      "10\n",
      "10\n",
      "inside classmethod\n",
      "10\n",
      "10\n",
      "Inside static method\n",
      "10\n",
      "From outside the class\n",
      "10\n",
      "10\n"
     ]
    }
   ],
   "source": [
    "class Test:\n",
    "    a = 10\n",
    "    \n",
    "    def __init__(self):\n",
    "        print('Inside constructor')\n",
    "        print(Test.a)\n",
    "        print(self.a)\n",
    "    def m1(self):\n",
    "        print('inside instance method')\n",
    "        print(Test.a)\n",
    "        print(self.a)\n",
    "    @classmethod\n",
    "    def m2(cls):\n",
    "        print('inside classmethod')\n",
    "        print(Test.a)\n",
    "        print(cls.a)\n",
    "    @staticmethod\n",
    "    def m3():\n",
    "        print('Inside static method')\n",
    "        print(Test.a)\n",
    "        \n",
    "t = Test()\n",
    "t.m1()\n",
    "t.m2()\n",
    "t.m3()\n",
    "print('From outside the class')\n",
    "print(Test.a)\n",
    "print(t.a)"
   ]
  },
  {
   "cell_type": "markdown",
   "id": "c8c2e452",
   "metadata": {},
   "source": [
    "# modifying static variables\n",
    "\n",
    "within the class we should use classname, cls variable\n",
    "\n",
    "\n",
    "from outside of the class: only classname"
   ]
  },
  {
   "cell_type": "code",
   "execution_count": 53,
   "id": "be1242e6",
   "metadata": {},
   "outputs": [
    {
     "name": "stdout",
     "output_type": "stream",
     "text": [
      "61\n",
      "61\n"
     ]
    }
   ],
   "source": [
    "class Test:\n",
    "    a = 10\n",
    "    \n",
    "    def __init__(self):\n",
    "        Test.a = 20               # modification\n",
    "        \n",
    "    @classmethod    \n",
    "    def m1(cls):  \n",
    "        cls.a= 30\n",
    "        Test.a = 40\n",
    "        \n",
    "    @staticmethod\n",
    "    def m2():\n",
    "        Test.a = 50\n",
    "        \n",
    "        \n",
    "\n",
    "    \n",
    "t = Test()\n",
    "t.m1()\n",
    "t.m2()\n",
    "\n",
    "Test.a = 61\n",
    "print(Test.a)\n",
    "print(t.a)\n",
    "        \n",
    "        "
   ]
  },
  {
   "cell_type": "markdown",
   "id": "f1e1135f",
   "metadata": {},
   "source": [
    "# Deleting the static variables\n",
    "within the class we should use classname, cls variable\n",
    "\n",
    "\n",
    "from outside of the class: only classname\n"
   ]
  },
  {
   "cell_type": "code",
   "execution_count": 58,
   "id": "e85a7f04",
   "metadata": {},
   "outputs": [
    {
     "name": "stdout",
     "output_type": "stream",
     "text": [
      "{'__module__': '__main__', 'a': 10, 'b': 20, 'c': 30, '__init__': <function Test.__init__ at 0x0000025B450A1790>, 'm1': <classmethod object at 0x0000025B42E8AC10>, 'm2': <staticmethod object at 0x0000025B42E8A5E0>, '__dict__': <attribute '__dict__' of 'Test' objects>, '__weakref__': <attribute '__weakref__' of 'Test' objects>, '__doc__': None}\n",
      "{'__module__': '__main__', 'b': 20, 'c': 30, '__init__': <function Test.__init__ at 0x0000025B450A1790>, 'm1': <classmethod object at 0x0000025B42E8AC10>, 'm2': <staticmethod object at 0x0000025B42E8A5E0>, '__dict__': <attribute '__dict__' of 'Test' objects>, '__weakref__': <attribute '__weakref__' of 'Test' objects>, '__doc__': None}\n",
      "{'__module__': '__main__', 'c': 30, '__init__': <function Test.__init__ at 0x0000025B450A1790>, 'm1': <classmethod object at 0x0000025B42E8AC10>, 'm2': <staticmethod object at 0x0000025B42E8A5E0>, '__dict__': <attribute '__dict__' of 'Test' objects>, '__weakref__': <attribute '__weakref__' of 'Test' objects>, '__doc__': None}\n",
      "{'__module__': '__main__', '__init__': <function Test.__init__ at 0x0000025B450A1790>, 'm1': <classmethod object at 0x0000025B42E8AC10>, 'm2': <staticmethod object at 0x0000025B42E8A5E0>, '__dict__': <attribute '__dict__' of 'Test' objects>, '__weakref__': <attribute '__weakref__' of 'Test' objects>, '__doc__': None}\n"
     ]
    }
   ],
   "source": [
    "class Test:\n",
    "    a = 10\n",
    "    b= 20\n",
    "    c=30\n",
    "    \n",
    "    def __init__(self):\n",
    "        del Test.a\n",
    "        \n",
    "    @classmethod    \n",
    "    def m1(cls):  \n",
    "        del cls.b\n",
    "       \n",
    "        \n",
    "    @staticmethod\n",
    "    def m2():\n",
    "        del Test.c\n",
    "        \n",
    "        \n",
    "print(Test.__dict__)\n",
    "t = Test()\n",
    "print(Test.__dict__)\n",
    "t.m1()\n",
    "print(Test.__dict__)\n",
    "t.m2()\n",
    "print(Test.__dict__)"
   ]
  },
  {
   "cell_type": "code",
   "execution_count": null,
   "id": "14e38163",
   "metadata": {},
   "outputs": [],
   "source": []
  }
 ],
 "metadata": {
  "kernelspec": {
   "display_name": "Python 3 (ipykernel)",
   "language": "python",
   "name": "python3"
  },
  "language_info": {
   "codemirror_mode": {
    "name": "ipython",
    "version": 3
   },
   "file_extension": ".py",
   "mimetype": "text/x-python",
   "name": "python",
   "nbconvert_exporter": "python",
   "pygments_lexer": "ipython3",
   "version": "3.9.7"
  }
 },
 "nbformat": 4,
 "nbformat_minor": 5
}
