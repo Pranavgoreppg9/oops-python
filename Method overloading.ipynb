{
 "cells": [
  {
   "cell_type": "markdown",
   "id": "f21b879b",
   "metadata": {},
   "source": [
    "method is said to be overloaded when it has same name and different arguement\n",
    "\n",
    "in python two mekthod with same name is not possible\n",
    "it considers only recent method\n",
    "\n",
    "method name is same \n",
    "but different arguement types number of arguements\n",
    "\n",
    "Python won't provide support method/constructor overloading\n",
    "\n",
    "because we do not provide data types in python like in other\n",
    "m1(int i)\n",
    "m2(float b)\n",
    "\n",
    "in python \n",
    "m1(i)\n",
    "m2(b)\n",
    "\n",
    "\n",
    "As there is no type explicitly there is no concept of overloading\n",
    "as officially not required\n",
    "\n",
    "In python we can call\n",
    "m1(10)\n",
    "m1('Python')\n",
    "m1(10.5)\n",
    "\n",
    "for m(i)\n",
    "as \n",
    "python never talks about type of i\n",
    "\n",
    "\n",
    "overloading concept is not required for python it is present by default "
   ]
  },
  {
   "cell_type": "code",
   "execution_count": null,
   "id": "159aa8f8",
   "metadata": {},
   "outputs": [],
   "source": [
    "class Test:\n",
    "    def m1(self):\n",
    "        print('no-arg method')\n",
    "        \n",
    "        \n",
    "    def m1(self,x):\n",
    "        print('one arg method')\n"
   ]
  },
  {
   "cell_type": "code",
   "execution_count": 1,
   "id": "91da3892",
   "metadata": {},
   "outputs": [
    {
     "name": "stdout",
     "output_type": "stream",
     "text": [
      "10\n",
      "durga\n",
      "10.3\n"
     ]
    }
   ],
   "source": [
    "class Test:\n",
    "    def m1(self,i):\n",
    "        print(i)\n",
    "        \n",
    "t = Test()\n",
    "t.m1(10)\n",
    "t.m1('durga')\n",
    "t.m1(10.3)\n",
    "\n",
    "# As we can pass any type of argurment what is need of over loading !\n",
    "        "
   ]
  },
  {
   "cell_type": "code",
   "execution_count": 13,
   "id": "6cf8e241",
   "metadata": {},
   "outputs": [
    {
     "name": "stdout",
     "output_type": "stream",
     "text": [
      "sum of three nos:  60\n",
      "sum of three nos:  30\n",
      "None\n",
      "None\n"
     ]
    }
   ],
   "source": [
    "# no of arguements\n",
    "\n",
    "# 2 different types\n",
    "# default arguments\n",
    "# variables length arguement\n",
    "class Test:\n",
    "    def sum(self,a = None,b = None, c= None):\n",
    "        if a!= None and b != None and c != None:\n",
    "            print(\"sum of three nos: \", a+b+c)\n",
    "        elif a != None and b!= None:\n",
    "            print(\"sum of three nos: \", a+b)\n",
    "        else:\n",
    "            print(None)\n",
    "t = Test()\n",
    "t.sum(20,20,20)\n",
    "t.sum(20,10)\n",
    "t.sum(20)\n",
    "t.sum()    "
   ]
  },
  {
   "cell_type": "code",
   "execution_count": 18,
   "id": "a6a65092",
   "metadata": {},
   "outputs": [
    {
     "name": "stdout",
     "output_type": "stream",
     "text": [
      "The sum:  60\n",
      "The sum:  150\n"
     ]
    }
   ],
   "source": [
    "# variable length arguement\n",
    "\n",
    "class Test:\n",
    "    def sum(self, *a): # internally variable length arguement is tuple\n",
    "        total = 0\n",
    "        for x in a:\n",
    "            total = total + x\n",
    "        print('The sum: ', total)\n",
    "        \n",
    "t = Test()\n",
    "t.sum(10,20,30)\n",
    "t.sum(10,20,30,40,50)\n",
    "\n",
    "\n",
    "#############      same for constructors     #################"
   ]
  },
  {
   "cell_type": "code",
   "execution_count": null,
   "id": "3bbd8683",
   "metadata": {},
   "outputs": [],
   "source": []
  }
 ],
 "metadata": {
  "kernelspec": {
   "display_name": "Python 3 (ipykernel)",
   "language": "python",
   "name": "python3"
  },
  "language_info": {
   "codemirror_mode": {
    "name": "ipython",
    "version": 3
   },
   "file_extension": ".py",
   "mimetype": "text/x-python",
   "name": "python",
   "nbconvert_exporter": "python",
   "pygments_lexer": "ipython3",
   "version": "3.9.7"
  }
 },
 "nbformat": 4,
 "nbformat_minor": 5
}
