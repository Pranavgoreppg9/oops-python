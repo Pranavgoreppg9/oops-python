{
 "cells": [
  {
   "cell_type": "code",
   "execution_count": 5,
   "id": "54a14f98",
   "metadata": {},
   "outputs": [
    {
     "name": "stdout",
     "output_type": "stream",
     "text": [
      "Enter No of students3\n",
      "Enter Student Name:Sunny\n",
      "Enter the marks100\n",
      "Hi Sunny\n",
      "Your marks are 100\n",
      "First Grade\n",
      "********************\n",
      "Enter Student Name:Pranav\n",
      "Enter the marks60\n",
      "Hi Pranav\n",
      "Your marks are 60\n",
      "First Grade\n",
      "********************\n",
      "Enter Student Name:Not yet defined\n",
      "Enter the marks21\n",
      "Hi Not yet defined\n",
      "Your marks are 21\n",
      "you are failed\n",
      "********************\n"
     ]
    }
   ],
   "source": [
    "# Instance Method Example\n",
    "\n",
    "class Student:\n",
    "    def __init__(self, name, marks):\n",
    "        self.name = name\n",
    "        self.marks = marks\n",
    "        \n",
    "    def display(self):\n",
    "        print('Hi', self.name)\n",
    "        print('Your marks are', self.marks)\n",
    "    \n",
    "    def grade(self):\n",
    "        if self.marks>=60:\n",
    "            print('First Grade')\n",
    "        elif self.marks>=50:\n",
    "            print('Second Grade')\n",
    "        elif self.marks>=35:\n",
    "            print('Third Grade')\n",
    "        else:\n",
    "            print('you are failed')\n",
    "            \n",
    "n = int(input('Enter No of students'))\n",
    "for i in range(n):\n",
    "    name = input('Enter Student Name:')\n",
    "    marks = int(input(\"Enter the marks\"))\n",
    "    \n",
    "    s = Student(name, marks)\n",
    "    \n",
    "    s.display()\n",
    "    s.grade()\n",
    "    \n",
    "    print('*'*20)\n",
    "    \n",
    "    \n",
    "    "
   ]
  },
  {
   "cell_type": "code",
   "execution_count": null,
   "id": "08750852",
   "metadata": {},
   "outputs": [],
   "source": [
    "\n",
    "class Student:\n",
    "    def __init__(self, name, marks):\n",
    "        self.name = name\n",
    "        self.marks = marks\n",
    "        \n",
    "    def display(self):\n",
    "        print('Hi', self.name)\n",
    "        print('Your marks are', self.marks)\n",
    "    \n",
    "    def grade(self):\n",
    "        if self.marks>=60:\n",
    "            print('First Grade')\n",
    "        elif self.marks>=50:\n",
    "            print('Second Grade')\n",
    "        elif self.marks>=35:\n",
    "            print('Third Grade')\n",
    "        else:\n",
    "            print('you are failed')\n",
    "            \n",
    "n = int(input('Enter No of students'))\n",
    "count = 1\n",
    "while(count<=n):\n",
    "    name = input('Enter Student Name:')\n",
    "    marks = int(input(\"Enter the marks\"))\n",
    "    \n",
    "    s = Student(name, marks)\n",
    "    \n",
    "    s.display()\n",
    "    s.grade()\n",
    "    \n",
    "    print('*'*20)\n",
    "    count +=1\n",
    "    "
   ]
  },
  {
   "cell_type": "code",
   "execution_count": 16,
   "id": "e6adfd94",
   "metadata": {},
   "outputs": [
    {
     "name": "stdout",
     "output_type": "stream",
     "text": [
      "Enter No of students1\n",
      "Enter Student Name:Shreyas\n",
      "Enter the marks100\n",
      "Shreyas\n",
      "hi Shreyas\n",
      "Your marks 100\n",
      "----------------------------------------------------------------------\n"
     ]
    }
   ],
   "source": [
    "# Setter and Getter methods\n",
    "class Student:\n",
    "\n",
    "    def setName(self,name):\n",
    "        self.name = name\n",
    "    def setMarks(self,marks):\n",
    "        self.marks = marks \n",
    "    \n",
    "    def getName(self):\n",
    "        return self.name\n",
    "        \n",
    "    def getMarks(self):\n",
    "        #can perform the validation here\n",
    "        \n",
    "        return self.marks\n",
    " \n",
    "n = int(input('Enter No of students'))\n",
    "count = 1\n",
    "while(count<=n):\n",
    "    name = input('Enter Student Name:')\n",
    "    marks = int(input(\"Enter the marks\"))\n",
    "    \n",
    "    \n",
    "    s = Student()\n",
    "    s.setName(name)\n",
    "    s.setMarks(marks)\n",
    "    \n",
    "    print(s.name) #direct access no validation\n",
    "    print(\"hi\",s.getName())   #if we access the data with methods always security \n",
    "                             # is there\n",
    "        # Hiding data behind the methods is called Encapsulation\n",
    "    \n",
    "    print(\"Your marks\",s.getMarks())\n",
    "    print(\"--\"*35)\n",
    "    count +=1\n",
    "    \n",
    "    \n",
    "    \n",
    "    \n",
    "\n"
   ]
  },
  {
   "cell_type": "code",
   "execution_count": 10,
   "id": "7e4c1084",
   "metadata": {},
   "outputs": [
    {
     "name": "stdout",
     "output_type": "stream",
     "text": [
      "Hello\n"
     ]
    }
   ],
   "source": []
  },
  {
   "cell_type": "code",
   "execution_count": null,
   "id": "8d627562",
   "metadata": {},
   "outputs": [],
   "source": []
  },
  {
   "cell_type": "markdown",
   "id": "fe61fa72",
   "metadata": {},
   "source": [
    "Inside method body we are accessing only class level data\n",
    "what is the need of declaring as instance method\n",
    "\n",
    "if we create an instance method need to assign a refrence variable and object creation\n",
    "else in class or static method can call by using Class name without creating object as it is costly operation\n",
    "\n",
    "\n",
    "self is refrence variable to current object\n",
    "\n",
    "cls points to current class object\n",
    "\n",
    "first arguement to the class method is cls\n",
    "\n",
    "Inside instance method we can access both instance and static variables\n",
    "\n",
    "inside classmethod we can access only static variable and we cannot access instance variables"
   ]
  },
  {
   "cell_type": "code",
   "execution_count": null,
   "id": "3e5f6fa6",
   "metadata": {},
   "outputs": [],
   "source": []
  },
  {
   "cell_type": "code",
   "execution_count": 4,
   "id": "88989640",
   "metadata": {},
   "outputs": [
    {
     "name": "stdout",
     "output_type": "stream",
     "text": [
      "Constructor \n",
      "hello\n"
     ]
    }
   ],
   "source": [
    "class Test:\n",
    "    def __init__(self):\n",
    "        print('Constructor ')\n",
    "        \n",
    "    @classmethod\n",
    "    def m1(cls):\n",
    "        print(\"hello\")\n",
    "        \n",
    "        \n",
    "Test()\n",
    "Test.m1()"
   ]
  },
  {
   "cell_type": "code",
   "execution_count": 18,
   "id": "2b76dfe8",
   "metadata": {},
   "outputs": [
    {
     "name": "stdout",
     "output_type": "stream",
     "text": [
      "Dog walks with 4 legs\n",
      "cat walks with 4 legs\n"
     ]
    }
   ],
   "source": [
    "class Animal:\n",
    "    legs = 4  # common for all is declared at class level #classvariable\n",
    "    \n",
    "    @classmethod\n",
    "    def walk(cls,name):# name is local vriable\n",
    "        print('{} walks with {} legs'.format(name,cls.legs))  # insted of cls.legs we can write Animal.legs\n",
    "\n",
    "Animal.walk('Dog')\n",
    "Animal.walk('cat')\n",
    "\n",
    "# main advantage is that no need to create a object"
   ]
  },
  {
   "cell_type": "code",
   "execution_count": 22,
   "id": "8e44dc7f",
   "metadata": {},
   "outputs": [
    {
     "name": "stdout",
     "output_type": "stream",
     "text": [
      "2243467168400\n",
      "The number of objects created: 1\n",
      "2243451027472\n"
     ]
    }
   ],
   "source": [
    "# variable common for all objects it is static variable\n",
    "# write a program to track no of objects created for a class\n",
    "\n",
    "class Test:\n",
    "    count = 0\n",
    "    \n",
    "    def __init__(self):\n",
    "        Test.count+=1  #how to access the static variable inside the \n",
    "#                      constructor by using class name otherwise it will be \n",
    "#                      local varibvle\n",
    "        print(id(self))\n",
    "    @classmethod\n",
    "    def getNoofObjects(cls):\n",
    "        print('The number of objects created:', cls.count)\n",
    "        print(id(cls))\n",
    "\n",
    "t1 = Test()\n",
    "# t2 = Test()\n",
    "# t3 = Test()\n",
    "# t4 = Test()\n",
    "\n",
    "Test.getNoofObjects()\n",
    "\n",
    "\n",
    "        \n"
   ]
  },
  {
   "cell_type": "markdown",
   "id": "7112195b",
   "metadata": {},
   "source": [
    "# Static Method"
   ]
  },
  {
   "cell_type": "markdown",
   "id": "9347fc03",
   "metadata": {},
   "source": [
    "Static method:\n",
    "just general utility method or we can say helper method\n",
    "\n",
    "\n"
   ]
  },
  {
   "cell_type": "code",
   "execution_count": null,
   "id": "70374bfb",
   "metadata": {},
   "outputs": [],
   "source": [
    "class Test:\n",
    "    def __init__(self):\n",
    "        pass\n",
    "    \n",
    "    @staticmethod\n",
    "    def sum(x,y):\n",
    "        pass"
   ]
  },
  {
   "cell_type": "code",
   "execution_count": 23,
   "id": "33345283",
   "metadata": {},
   "outputs": [
    {
     "name": "stdout",
     "output_type": "stream",
     "text": [
      "The Sum 30\n",
      "The product 200\n"
     ]
    }
   ],
   "source": [
    "class Math:\n",
    "    \n",
    "    @staticmethod\n",
    "    def add(x,y):\n",
    "        print('The Sum', x+y)\n",
    "    \n",
    "    @staticmethod\n",
    "    def product(x,y):\n",
    "        print('The product', x*y)\n",
    "\n",
    "Math.add(10,20)\n",
    "Math.product(10,20)\n",
    "    \n",
    "    "
   ]
  },
  {
   "cell_type": "markdown",
   "id": "c8e8dfa8",
   "metadata": {},
   "source": [
    "Instance Method\n",
    "1. if we are using any instance variables inside method body then we should go for instance method\n",
    "\n",
    "Class method\n",
    "If we are using static/class variable inside method body then this method no way related to the particular object \n",
    "can call the class method by using object\n",
    "\n",
    "\n",
    "Static Method\n",
    "if we are not using any instance variable or static variable inside the body \n",
    "then to define general utility method "
   ]
  },
  {
   "cell_type": "markdown",
   "id": "83e115ae",
   "metadata": {},
   "source": [
    "If we are not using any decorator:\n",
    "@static method is optional\n",
    "\n",
    "method without any decorator then it is either instance or static method"
   ]
  },
  {
   "cell_type": "code",
   "execution_count": 30,
   "id": "011ef5b5",
   "metadata": {},
   "outputs": [
    {
     "name": "stdout",
     "output_type": "stream",
     "text": [
      "Some method\n"
     ]
    },
    {
     "ename": "TypeError",
     "evalue": "m1() takes 0 positional arguments but 1 was given",
     "output_type": "error",
     "traceback": [
      "\u001b[1;31m---------------------------------------------------------------------------\u001b[0m",
      "\u001b[1;31mTypeError\u001b[0m                                 Traceback (most recent call last)",
      "\u001b[1;32m~\\AppData\\Local\\Temp/ipykernel_25852/2291139797.py\u001b[0m in \u001b[0;36m<module>\u001b[1;34m\u001b[0m\n\u001b[0;32m      6\u001b[0m \u001b[0mt\u001b[0m \u001b[1;33m=\u001b[0m \u001b[0mTest\u001b[0m\u001b[1;33m(\u001b[0m\u001b[1;33m)\u001b[0m\u001b[1;33m\u001b[0m\u001b[1;33m\u001b[0m\u001b[0m\n\u001b[0;32m      7\u001b[0m \u001b[0mTest\u001b[0m\u001b[1;33m.\u001b[0m\u001b[0mm1\u001b[0m\u001b[1;33m(\u001b[0m\u001b[1;33m)\u001b[0m\u001b[1;33m\u001b[0m\u001b[1;33m\u001b[0m\u001b[0m\n\u001b[1;32m----> 8\u001b[1;33m \u001b[0mt\u001b[0m\u001b[1;33m.\u001b[0m\u001b[0mm1\u001b[0m\u001b[1;33m(\u001b[0m\u001b[1;33m)\u001b[0m\u001b[1;33m\u001b[0m\u001b[1;33m\u001b[0m\u001b[0m\n\u001b[0m\u001b[0;32m      9\u001b[0m \u001b[1;33m\u001b[0m\u001b[0m\n\u001b[0;32m     10\u001b[0m \u001b[1;33m\u001b[0m\u001b[0m\n",
      "\u001b[1;31mTypeError\u001b[0m: m1() takes 0 positional arguments but 1 was given"
     ]
    }
   ],
   "source": [
    "class Test:\n",
    "    \n",
    "    def m1():\n",
    "        print('Some method')\n",
    "\n",
    "t = Test()\n",
    "Test.m1()\n",
    "t.m1()\n",
    "\n",
    "\n",
    "# this is a error no decorator hence the method m1 must be either instance or \n",
    "# static but that method is called by using object hence it is instance method\n",
    "# but still the self is missing hence the error is about positional arguement"
   ]
  },
  {
   "cell_type": "code",
   "execution_count": 29,
   "id": "67c2d72c",
   "metadata": {},
   "outputs": [
    {
     "name": "stdout",
     "output_type": "stream",
     "text": [
      "Some method\n",
      "Some method\n"
     ]
    }
   ],
   "source": [
    "# but now we use the static method decorator then it is valid\n",
    "class Test:\n",
    "    @staticmethod\n",
    "    def m1():\n",
    "        print('Some method')\n",
    "\n",
    "t = Test()\n",
    "Test.m1()\n",
    "t.m1()"
   ]
  },
  {
   "cell_type": "code",
   "execution_count": null,
   "id": "4a8082de",
   "metadata": {},
   "outputs": [],
   "source": []
  }
 ],
 "metadata": {
  "kernelspec": {
   "display_name": "Python 3 (ipykernel)",
   "language": "python",
   "name": "python3"
  },
  "language_info": {
   "codemirror_mode": {
    "name": "ipython",
    "version": 3
   },
   "file_extension": ".py",
   "mimetype": "text/x-python",
   "name": "python",
   "nbconvert_exporter": "python",
   "pygments_lexer": "ipython3",
   "version": "3.9.7"
  }
 },
 "nbformat": 4,
 "nbformat_minor": 5
}
