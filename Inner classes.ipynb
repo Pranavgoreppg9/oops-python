{
 "cells": [
  {
   "cell_type": "code",
   "execution_count": 17,
   "id": "051437e1",
   "metadata": {},
   "outputs": [
    {
     "name": "stdout",
     "output_type": "stream",
     "text": [
      "Employee number:  878425\n",
      "Employee name:  Pranav\n",
      "Employee name:  20000\n",
      "2070069254464\n",
      "2070069254464\n",
      "$$$$$$$$$$$$$$$$$$$$$$$$$$$$$$$$$$$$$$$$$$$$$$$$$$$$$$$$$$$$$$$$$$$$$$\n",
      "2070069254464"
     ]
    }
   ],
   "source": [
    "class Employee:\n",
    "    def __init__(self,eno,ename,esal):\n",
    "        self.eno = eno\n",
    "        self.ename = ename\n",
    "        self.esal = esal\n",
    "    \n",
    "    def display(self):\n",
    "        print('Employee number: ',self.eno)\n",
    "        print('Employee name: ', self.ename)\n",
    "        print('Employee name: ', self.esal)\n",
    "        print(id(self))\n",
    "        \n",
    "class Test:\n",
    "    def modify(emp):\n",
    "        emp.esal = emp.esal+10000\n",
    "        emp.display()\n",
    "        print(id(emp))\n",
    "\n",
    "e = Employee(878425,'Pranav',10000)\n",
    "Test.modify(e)\n",
    "\n",
    "print('$$'*35)\n",
    "\n",
    "print(id(e), end='')\n",
    "\n",
    "\n",
    "\n",
    "\n",
    "# From one class we can access the variables of other class once you have\n",
    "# object refrence\n"
   ]
  },
  {
   "cell_type": "raw",
   "id": "a6a13ccc",
   "metadata": {},
   "source": [
    "Inner Classes:\n",
    "\n",
    "Class declared inside another class\n",
    "\n",
    "Without existing one type of object if there is no chance of existing another type of object then we should go for inner class\n",
    "\n",
    "Car       Engine\n",
    "\n",
    "class Car:\n",
    "    .......\n",
    "    class Engine:\n",
    "    .......\n",
    "    \n",
    "    \n",
    "another example\n",
    "\n",
    "class University:\n",
    "    class Department:\n",
    "        ..........\n",
    "\n",
    "\n",
    "class Humanbody:\n",
    "    .......\n",
    "    class Head\n",
    "    \n",
    "\n",
    "without existing outer class object there is no chance of existing innner class object. Inner class object is always associated with outer class object.\n",
    "  \n",
    "\n"
   ]
  },
  {
   "cell_type": "code",
   "execution_count": 5,
   "id": "10488f08",
   "metadata": {},
   "outputs": [
    {
     "name": "stdout",
     "output_type": "stream",
     "text": [
      "Creatiion of outer class\n",
      "Inner class creation\n",
      "Inner class method\n"
     ]
    }
   ],
   "source": [
    "class Outer:\n",
    "    def __init__(self):\n",
    "        print('Creatiion of outer class')\n",
    "    \n",
    "    def m2(self):\n",
    "        print('Outer class method')\n",
    "        \n",
    "    class Inner:\n",
    "        def __init__(self):\n",
    "            print('Inner class creation')\n",
    "            \n",
    "        def m1(self):\n",
    "            print('Inner class method')\n",
    "\n",
    "x = Outer()\n",
    "i = x.Inner()\n",
    "i.m1()"
   ]
  },
  {
   "cell_type": "code",
   "execution_count": 6,
   "id": "c83531ad",
   "metadata": {},
   "outputs": [
    {
     "name": "stdout",
     "output_type": "stream",
     "text": [
      "Creatiion of outer class\n",
      "Inner class creation\n",
      "Inner class method\n"
     ]
    }
   ],
   "source": [
    "i = Outer().Inner()\n",
    "i.m1()"
   ]
  },
  {
   "cell_type": "code",
   "execution_count": 7,
   "id": "b879f5d2",
   "metadata": {},
   "outputs": [
    {
     "name": "stdout",
     "output_type": "stream",
     "text": [
      "Creatiion of outer class\n",
      "Inner class creation\n",
      "Inner class method\n"
     ]
    }
   ],
   "source": [
    "i = Outer().Inner().m1()"
   ]
  },
  {
   "cell_type": "code",
   "execution_count": 11,
   "id": "2d759bb1",
   "metadata": {},
   "outputs": [
    {
     "name": "stdout",
     "output_type": "stream",
     "text": [
      "Name Pranav\n",
      "DOB=15/8/1947\n"
     ]
    }
   ],
   "source": [
    "class Person:\n",
    "    def __init__(self):\n",
    "        self.name= \"Pranav\"\n",
    "        self.dob = self.DOB()\n",
    "        \n",
    "    def display(self):\n",
    "        print('Name', self.name)\n",
    "        self.dob.display()\n",
    "    \n",
    "    class DOB:\n",
    "        def __init__(self):\n",
    "            self.dd = 15\n",
    "            self.mm = 8\n",
    "            self.yyyy = 1947\n",
    "        def display(self):\n",
    "            print('DOB={}/{}/{}'.format(self.dd, self.mm, self.yyyy))\n",
    "    \n",
    "p = Person()\n",
    "p.display()"
   ]
  },
  {
   "cell_type": "code",
   "execution_count": 13,
   "id": "5c9a4999",
   "metadata": {},
   "outputs": [
    {
     "name": "stdout",
     "output_type": "stream",
     "text": [
      "Name Pranav\n",
      "DOB=24/5/2001\n",
      "DOB=24/5/2001\n"
     ]
    },
    {
     "ename": "NameError",
     "evalue": "name 'DOB' is not defined",
     "output_type": "error",
     "traceback": [
      "\u001b[1;31m---------------------------------------------------------------------------\u001b[0m",
      "\u001b[1;31mNameError\u001b[0m                                 Traceback (most recent call last)",
      "\u001b[1;32m~\\AppData\\Local\\Temp/ipykernel_19916/4120089352.py\u001b[0m in \u001b[0;36m<module>\u001b[1;34m\u001b[0m\n\u001b[0;32m     20\u001b[0m \u001b[0mp\u001b[0m\u001b[1;33m.\u001b[0m\u001b[0mdob\u001b[0m\u001b[1;33m.\u001b[0m\u001b[0mdisplay\u001b[0m\u001b[1;33m(\u001b[0m\u001b[1;33m)\u001b[0m\u001b[1;33m\u001b[0m\u001b[1;33m\u001b[0m\u001b[0m\n\u001b[0;32m     21\u001b[0m \u001b[1;33m\u001b[0m\u001b[0m\n\u001b[1;32m---> 22\u001b[1;33m \u001b[0mq\u001b[0m \u001b[1;33m=\u001b[0m \u001b[0mDOB\u001b[0m\u001b[1;33m(\u001b[0m\u001b[1;33m)\u001b[0m\u001b[1;33m\u001b[0m\u001b[1;33m\u001b[0m\u001b[0m\n\u001b[0m",
      "\u001b[1;31mNameError\u001b[0m: name 'DOB' is not defined"
     ]
    }
   ],
   "source": [
    "class Person:\n",
    "    def __init__(self,name,dd,mm,yyyy):\n",
    "        self.name= name\n",
    "        self.dob = self.DOB(dd,mm,yyyy)\n",
    "        \n",
    "    def display(self):\n",
    "        print('Name', self.name)\n",
    "        self.dob.display()\n",
    "    \n",
    "    class DOB:\n",
    "        def __init__(self,dd,mm,yyyy):\n",
    "            self.dd = dd\n",
    "            self.mm =mm\n",
    "            self.yyyy = yyyy\n",
    "        def display(self):\n",
    "            print('DOB={}/{}/{}'.format(self.dd, self.mm, self.yyyy))\n",
    "\n",
    "p = Person('Pranav', 24,5,2001)\n",
    "p.display()\n",
    "p.dob.display()\n"
   ]
  },
  {
   "cell_type": "code",
   "execution_count": 15,
   "id": "8cba2406",
   "metadata": {},
   "outputs": [
    {
     "name": "stdout",
     "output_type": "stream",
     "text": [
      "Sum:  30\n",
      "Sum:  50\n"
     ]
    }
   ],
   "source": [
    "class Test:\n",
    "    def m1(self):\n",
    "        def sum(a,b):\n",
    "            print('Sum: ',a+b)\n",
    "        \n",
    "        sum(10,20)\n",
    "        sum(20,30)\n",
    "        \n",
    "t = Test()\n",
    "t.m1()\n",
    "        "
   ]
  },
  {
   "cell_type": "markdown",
   "id": "6646a19c",
   "metadata": {},
   "source": []
  },
  {
   "cell_type": "code",
   "execution_count": null,
   "id": "aa2f1a7e",
   "metadata": {},
   "outputs": [],
   "source": []
  },
  {
   "cell_type": "code",
   "execution_count": null,
   "id": "8c4a5575",
   "metadata": {},
   "outputs": [],
   "source": []
  }
 ],
 "metadata": {
  "kernelspec": {
   "display_name": "Python 3 (ipykernel)",
   "language": "python",
   "name": "python3"
  },
  "language_info": {
   "codemirror_mode": {
    "name": "ipython",
    "version": 3
   },
   "file_extension": ".py",
   "mimetype": "text/x-python",
   "name": "python",
   "nbconvert_exporter": "python",
   "pygments_lexer": "ipython3",
   "version": "3.9.7"
  }
 },
 "nbformat": 4,
 "nbformat_minor": 5
}
